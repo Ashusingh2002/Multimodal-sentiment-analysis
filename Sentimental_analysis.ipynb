{
 "cells": [
  {
   "cell_type": "markdown",
   "id": "0",
   "metadata": {
    "id": "59eea30e"
   },
   "source": [
    "# Multimodal Sentiment Analysis: Combining Text and Visual Features\n",
    "**- Aastha Singh Rai**\n",
    "**- 210102001 (ECE)**\n"
   ]
  },
  {
   "cell_type": "markdown",
   "id": "1",
   "metadata": {
    "id": "fc7c4103"
   },
   "source": [
    "## Motivation\n",
    "Sentiment analysis is the process of determining the emotional tone behind a body of text. While traditional sentiment analysis typically focuses on text data, there is a growing interest in combining multiple data modalities—such as text, images, and even audio—into a single model to improve the accuracy of predictions. This type of analysis, known as multimodal sentiment analysis, aims to understand the sentiment of a text more holistically by also considering its visual and auditory cues.\n",
    "\n",
    "I chose to explore multimodal sentiment analysis because of its potential applications in various fields, such as movie genre classification, social media sentiment analysis, and customer service. For instance, movies often generate a unique sentiment through both the visual scenes (e.g., colors, facial expressions) and the accompanying dialogues. Understanding this combined sentiment can lead to better recommendation systems or targeted advertising.\n",
    "\n",
    "\n"
   ]
  },
  {
   "cell_type": "markdown",
   "id": "2",
   "metadata": {
    "id": "9ab3f711"
   },
   "source": [
    "## 1. Importing Required Libraries And Defining Parameters"
   ]
  },
  {
   "cell_type": "code",
   "execution_count": null,
   "id": "3",
   "metadata": {
    "colab": {
     "base_uri": "https://localhost:8080/"
    },
    "id": "f4e4eb3e",
    "outputId": "7ae28551-bb3b-4e6c-f43e-7fa6f2bfabf5"
   },
   "outputs": [],
   "source": [
    "\n",
    "import torch\n",
    "import torch.nn as nn\n",
    "import torch.optim as optim\n",
    "from torch.utils.data import Dataset, DataLoader\n",
    "from torchvision import transforms, models\n",
    "from transformers import BertTokenizer, BertModel\n",
    "import numpy as np\n",
    "from tqdm import tqdm\n",
    "import warnings\n",
    "from PIL import Image\n",
    "\n",
    "# Filter warnings\n",
    "warnings.filterwarnings('ignore')\n",
    "\n",
    "# Constants\n",
    "BATCH_SIZE = 32\n",
    "EPOCHS = 3  # Reduced epochs for quick training\n",
    "LEARNING_RATE = 2e-5\n",
    "MAX_TEXT_LENGTH = 128\n",
    "IMAGE_SIZE = 224\n",
    "NUM_SAMPLES = 500  # Small synthetic dataset\n",
    "\n",
    "# Device setup\n",
    "device = torch.device('cuda' if torch.cuda.is_available() else 'cpu')\n",
    "print(f\"Using device: {device}\")"
   ]
  },
  {
   "cell_type": "markdown",
   "id": "4",
   "metadata": {
    "id": "925fb45f"
   },
   "source": [
    "## 2. Defining the Synthetic Dataset\n",
    "\n",
    "**Why use synthetic data?**\n",
    "\n",
    "In this project, we are using synthetic data for a few reasons. First, synthetic data is quick and easy to generate, which allows for faster prototyping and experimentation. Generating synthetic images and texts helps avoid the challenges of working with real-world datasets, which may be unbalanced or hard to acquire. Additionally, it provides controlled conditions to test models under different scenarios. Mainly the dataset I found were very large my machine was unable to process it(I tried it).\n",
    "\n",
    "However, synthetic data has its drawbacks. It often lacks the complexity and nuances that real-world data possesses, which can limit the model’s ability to generalize well to unseen, real data. Therefore, while synthetic data is useful for initial experiments, the real goal is to replace this with real-world data to improve the robustness and accuracy of the model."
   ]
  },
  {
   "cell_type": "code",
   "execution_count": null,
   "id": "5",
   "metadata": {
    "id": "a1736cce"
   },
   "outputs": [],
   "source": [
    "\n",
    "class SyntheticDataset(Dataset):\n",
    "    def __init__(self, num_samples):\n",
    "        self.num_samples = num_samples\n",
    "        self.tokenizer = BertTokenizer.from_pretrained('bert-base-uncased')\n",
    "        self.transform = transforms.Compose([\n",
    "            transforms.ToTensor(),\n",
    "            transforms.Normalize([0.485, 0.456, 0.406], [0.229, 0.224, 0.225])\n",
    "        ])\n",
    "\n",
    "        # Generate synthetic data\n",
    "        self.texts = [f\"This is sample text {i}\" for i in range(num_samples)]\n",
    "        self.labels = np.random.randint(0, 2, size=num_samples)  # Binary labels\n",
    "\n",
    "    def __len__(self):\n",
    "        return self.num_samples\n",
    "\n",
    "    def __getitem__(self, idx):\n",
    "        # Generate synthetic image (random RGB)\n",
    "        image = np.random.randint(0, 256, (IMAGE_SIZE, IMAGE_SIZE, 3), dtype=np.uint8)  # HWC format\n",
    "        image = Image.fromarray(image)  # Convert to PIL image\n",
    "        image = self.transform(image)\n",
    "\n",
    "        # Tokenize text\n",
    "        inputs = self.tokenizer(\n",
    "            self.texts[idx],\n",
    "            return_tensors='pt',\n",
    "            padding='max_length',\n",
    "            max_length=MAX_TEXT_LENGTH,\n",
    "            truncation=True\n",
    "        )\n",
    "\n",
    "        return {\n",
    "            'input_ids': inputs['input_ids'].squeeze(0),\n",
    "            'attention_mask': inputs['attention_mask'].squeeze(0),\n",
    "            'image': image,\n",
    "            'label': torch.tensor(self.labels[idx], dtype=torch.float)\n",
    "        }\n"
   ]
  },
  {
   "cell_type": "markdown",
   "id": "6",
   "metadata": {
    "id": "5f82063d"
   },
   "source": [
    "## 3. Building the Multimodal Sentiment Model"
   ]
  },
  {
   "cell_type": "code",
   "execution_count": null,
   "id": "7",
   "metadata": {
    "id": "d9b3771c"
   },
   "outputs": [],
   "source": [
    "class MultimodalSentimentModel(nn.Module):\n",
    "    def __init__(self):\n",
    "        super().__init__()\n",
    "        # Text model (frozen BERT)\n",
    "        self.text_model = BertModel.from_pretrained('bert-base-uncased')\n",
    "        for param in self.text_model.parameters():\n",
    "            param.requires_grad = False\n",
    "\n",
    "        # Image model (frozen ResNet with custom head)\n",
    "        self.image_model = models.resnet18(weights=None)  # No pretrained weights for speed\n",
    "        self.image_model.fc = nn.Sequential(\n",
    "            nn.Linear(512, 128)  # Simplified head\n",
    "        )\n",
    "\n",
    "        # Classifier\n",
    "        self.classifier = nn.Sequential(\n",
    "            nn.Linear(768 + 128, 64),  # Smaller network\n",
    "            nn.ReLU(),\n",
    "            nn.Linear(64, 1)\n",
    "        )\n",
    "\n",
    "    def forward(self, input_ids, attention_mask, image):\n",
    "        text_features = self.text_model(\n",
    "            input_ids=input_ids,\n",
    "            attention_mask=attention_mask\n",
    "        ).last_hidden_state[:, 0, :]\n",
    "\n",
    "        image_features = self.image_model(image)\n",
    "        combined = torch.cat((text_features, image_features), dim=1)\n",
    "        return self.classifier(combined).squeeze(1)"
   ]
  },
  {
   "cell_type": "markdown",
   "id": "8",
   "metadata": {
    "id": "67cffa65"
   },
   "source": [
    "## 4. Training the Model"
   ]
  },
  {
   "cell_type": "code",
   "execution_count": null,
   "id": "9",
   "metadata": {
    "id": "c6b26407"
   },
   "outputs": [],
   "source": [
    "def train_epoch(model, dataloader, criterion, optimizer, device):\n",
    "    model.train()\n",
    "    running_loss = 0.0\n",
    "    correct = 0\n",
    "    total = 0\n",
    "\n",
    "    for batch in tqdm(dataloader, desc=\"Training\", leave=False):\n",
    "        input_ids = batch['input_ids'].to(device)\n",
    "        attention_mask = batch['attention_mask'].to(device)\n",
    "        images = batch['image'].to(device)\n",
    "        labels = batch['label'].to(device)\n",
    "\n",
    "        optimizer.zero_grad()\n",
    "        outputs = model(input_ids, attention_mask, images)\n",
    "        loss = criterion(outputs, labels)\n",
    "        loss.backward()\n",
    "        optimizer.step()\n",
    "\n",
    "        running_loss += loss.item()\n",
    "        predicted = (torch.sigmoid(outputs) > 0.5).float()\n",
    "        total += labels.size(0)\n",
    "        correct += (predicted == labels).sum().item()\n",
    "\n",
    "    return running_loss / len(dataloader), correct / total\n",
    "\n"
   ]
  },
  {
   "cell_type": "markdown",
   "id": "10",
   "metadata": {
    "id": "a8848836"
   },
   "source": [
    "## 5. Evaluating the Model"
   ]
  },
  {
   "cell_type": "code",
   "execution_count": null,
   "id": "11",
   "metadata": {
    "id": "9c1d01d7"
   },
   "outputs": [],
   "source": [
    "def evaluate(model, dataloader, criterion, device):\n",
    "    model.eval()\n",
    "    running_loss = 0.0\n",
    "    correct = 0\n",
    "    total = 0\n",
    "\n",
    "    with torch.no_grad():\n",
    "        for batch in tqdm(dataloader, desc=\"Evaluating\", leave=False):\n",
    "            input_ids = batch['input_ids'].to(device)\n",
    "            attention_mask = batch['attention_mask'].to(device)\n",
    "            images = batch['image'].to(device)\n",
    "            labels = batch['label'].to(device)\n",
    "\n",
    "            outputs = model(input_ids, attention_mask, images)\n",
    "            loss = criterion(outputs, labels)\n",
    "\n",
    "            running_loss += loss.item()\n",
    "            predicted = (torch.sigmoid(outputs) > 0.5).float()\n",
    "            total += labels.size(0)\n",
    "            correct += (predicted == labels).sum().item()\n",
    "\n",
    "    return running_loss / len(dataloader), correct / total"
   ]
  },
  {
   "cell_type": "markdown",
   "id": "12",
   "metadata": {
    "id": "4e24c57a"
   },
   "source": [
    "## 6. Running the Training and Evaluation Loop"
   ]
  },
  {
   "cell_type": "code",
   "execution_count": null,
   "id": "13",
   "metadata": {
    "colab": {
     "base_uri": "https://localhost:8080/",
     "height": 475,
     "referenced_widgets": [
      "97f6ef78a3f44ac4b3386fc386243de5",
      "19cd76f809d24f7c823958b28c597c0d",
      "d18b9f2eec1142dc95dc012dd5e5986a",
      "70f318b94b3842fdae1f8714bfc5bb35",
      "41abbaf1614f4aa3b1e5ebf7fbe6a956",
      "0275493f5c5244f6b21ecbd412449a8d",
      "c832d43e15e44675b894f782eca74137",
      "214ce5636ee1463daddda38f167696c6",
      "351a1698da744e88a59a39ccfebeb1b1",
      "119bd4e02cdf484f92ae25d7ad868d6a",
      "2465fd46967e4927a6107b2d233157ed",
      "f50773a4fccb4b31ae8b791149085f47",
      "0a66bc0e295343baa6c64af8ea6d7510",
      "478b8318587b437685d54d22726bcdb6",
      "f087ecf5d431412eb511084ae404730f",
      "049d648162e343bdbc0b8c2b5c19506d",
      "3c8ce18872b84a7488e3eea7ec6e92f4",
      "ddeee5b5711843fd8e52377e18e3cd8e",
      "ce61ca403daf45fa9b6f03f4a4984cd2",
      "bf1cdfcba96241058abef7c937888331",
      "1f176b2f7bd84453b28dda2f4b660384",
      "f314c07ad69a44368dbff9e39865126a",
      "bac5ae75a3ec43488047670d97991204",
      "e0c8cc4603504e25bbde5ada711eb3ac",
      "917c03f287a94ed983103dc33b153993",
      "36dad797e7de470ba84dcf47ff83e6d5",
      "7e9efb319a794e39bba246d0b78cc2ab",
      "d1e18c7c26634e51bb06eaeaa1721104",
      "7841a9e7bf944929947c3ee2875bdad8",
      "74aeeea88ca54b4d8c314c0d68c3b555",
      "aade2874f9c244b4b8243016662f5b92",
      "86aa7455d846405b90f8f69b8303e265",
      "2236a559c348467483a3c383219957ed",
      "b47f317b8506495a95b3632db52bd061",
      "79d4b99f6ac44220a4546f1a2d45612b",
      "22ade1d2bd494edaa87f6bcf1effe310",
      "d69d6555ce35437bbbee8e1d2a47dcb7",
      "d8adc413432647168f44cb6a3bc66182",
      "468d956d93a04d18ad0f446621e6d81b",
      "ff054b63a25c46bea6f33e6d8d0a30bb",
      "640e9247d22948d2983d154ff7d4cdb6",
      "155079536be34671b270fddbe95e3591",
      "92ad2fbe413b4dffa4d3096985e5e9ef",
      "89c156851f3f4aa18330c348c8962789",
      "44fbb13be3fd4114b86b4d7df5578bf6",
      "8b979ff22de948ebb452b8c29d384f8f",
      "c48c8caa0f7b4d6f8b2f851dbb20d25d",
      "395427c6226641bb98448d8c52134e6d",
      "55ed0d19840e4b0e9a2a1d7193443ba1",
      "4232ff27a3bf4010a02c577408d87611",
      "8fed02811cfc4320a98daef17f7c8036",
      "a62e213fca9543d18009bddee9e4b1d3",
      "ddf6ed41485a434d92c494ee37b27b6d",
      "8610d3a412d741ce8f63f8d3d04bda0f",
      "809b989ce0dc4eefbde5a1cd5e66f15e"
     ]
    },
    "id": "ba2bfba0",
    "outputId": "9715d0a3-6a64-4896-ef9e-2da5e89b5119"
   },
   "outputs": [],
   "source": [
    "def main():\n",
    "    # Create synthetic datasets\n",
    "    train_dataset = SyntheticDataset(NUM_SAMPLES)\n",
    "    val_dataset = SyntheticDataset(NUM_SAMPLES // 5)\n",
    "    test_dataset = SyntheticDataset(NUM_SAMPLES // 5)\n",
    "\n",
    "    # Create dataloaders\n",
    "    train_loader = DataLoader(train_dataset, batch_size=BATCH_SIZE, shuffle=True)\n",
    "    val_loader = DataLoader(val_dataset, batch_size=BATCH_SIZE)\n",
    "    test_loader = DataLoader(test_dataset, batch_size=BATCH_SIZE)\n",
    "\n",
    "    # Initialize model\n",
    "    model = MultimodalSentimentModel().to(device)\n",
    "    criterion = nn.BCEWithLogitsLoss()\n",
    "    optimizer = optim.AdamW(model.parameters(), lr=LEARNING_RATE)\n",
    "\n",
    "    # Training loop\n",
    "    for epoch in range(EPOCHS):\n",
    "        print(f\"\\nEpoch {epoch+1}/{EPOCHS}\")\n",
    "        train_loss, train_acc = train_epoch(model, train_loader, criterion, optimizer, device)\n",
    "        val_loss, val_acc = evaluate(model, val_loader, criterion, device)\n",
    "\n",
    "        print(f\"Train Loss: {train_loss:.4f} | Accuracy: {train_acc:.4f}\")\n",
    "        print(f\"Val Loss: {val_loss:.4f} | Accuracy: {val_acc:.4f}\")\n",
    "\n",
    "    # Quick test\n",
    "    test_loss, test_acc = evaluate(model, test_loader, criterion, device)\n",
    "    print(f\"\\nTest Loss: {test_loss:.4f} | Accuracy: {test_acc:.4f}\")\n",
    "\n",
    "if __name__ == '__main__':\n",
    "    main()"
   ]
  },
  {
   "cell_type": "markdown",
   "id": "14",
   "metadata": {
    "id": "b7d8ce58"
   },
   "source": [
    "# Breakdown of the Code:\n",
    "\n",
    "## Synthetic Dataset Class (`SyntheticDataset`):\n",
    "\n",
    "In this part of the code, we create synthetic data—meaning the data is artificially generated rather than collected from real-world sources. This is useful for quickly testing our models and experiments without needing a large, real dataset.\n",
    "\n",
    "### How does it work?\n",
    "\n",
    "- We generate random text like \"This is sample text 0\", \"This is sample text 1\", etc., and create random RGB images, essentially simulating a scenario where both text and image data are provided.\n",
    "- **Text Processing**: We use the BERT tokenizer to convert the text into a format that the BERT model can understand. Specifically, we generate `input_ids` (which represent the text as numbers) and `attention_mask` (which tells the model which parts of the input to focus on).\n",
    "- **Image Processing**: The generated images (which are just random pixel values) are processed using a transformation pipeline, which includes converting them into tensor format and normalizing the pixel values to match what ResNet expects.\n",
    "- **Labels**: To simulate a real task, each sample is randomly assigned a binary label (0 or 1). In a real scenario, these labels would correspond to the sentiment of the text and image (e.g., positive or negative sentiment).\n",
    "\n",
    "In summary, the `SyntheticDataset` class creates and processes synthetic data (text and images) and prepares it for use by the model.\n",
    "\n",
    "## Multimodal Sentiment Model (`MultimodalSentimentModel`):\n",
    "\n",
    "This part of the code is where the actual machine learning model is defined. It's a **multimodal model**, meaning it takes two types of data: text (processed by BERT) and images (processed by ResNet). The idea is to make predictions (like sentiment) based on both types of information at once.\n",
    "\n",
    "### How does it work?\n",
    "\n",
    "- **Text Processing**: The text data is passed through BERT, which generates a representation of the text using the `[CLS]` token from the last hidden state. This token acts as a summary of the entire text and is what we use to represent the text input in our model.\n",
    "  \n",
    "- **Image Processing**: The images are passed through a ResNet-18 model. ResNet is a deep learning model commonly used for image classification. We modify the model slightly by replacing its last layer with a simpler one that outputs features relevant to our task.\n",
    "  \n",
    "- **Combining the Features**: Once we have the features from both the text and image models, we combine (concatenate) them into a single feature vector. This combined vector is then passed through a small neural network that makes the final prediction (whether the sentiment is positive or negative).\n",
    "  \n",
    "In short, this model is trying to learn how to make predictions by looking at both the text and the images together. This approach is common in multimodal learning, where models are trained to handle multiple types of data simultaneously.\n",
    "\n",
    "## Training and Evaluation Functions:\n",
    "\n",
    "### Training Loop:\n",
    "This is where the actual learning happens. During each epoch (iteration over the entire dataset), the model is trained using batches of data:\n",
    "  \n",
    "- For each batch, the model makes predictions (called \"outputs\") based on the input data.\n",
    "- The loss (a measure of how far off the predictions are from the actual labels) is calculated.\n",
    "- The model's parameters are then adjusted using a process called **backpropagation**, which helps the model improve its predictions over time.\n",
    "\n",
    "### Evaluation Loop:\n",
    "After training, we need to check how well the model is performing. The evaluation loop is similar to the training loop, but we don’t update the model’s parameters here—just calculate how well the model is performing on unseen data (i.e., the validation or test sets).\n",
    "  \n",
    "- The loss and accuracy are calculated, and these metrics help us understand whether the model is improving or if it's overfitting (performing well on the training data but not generalizing well to new data).\n",
    "\n",
    "## Main Function:\n",
    "\n",
    "The `main()` function is the entry point of the code, where everything is brought together.\n",
    "\n",
    "- **Dataset Creation**: First, we create synthetic datasets (using the `SyntheticDataset` class) for training, validation, and testing. This simulates a real-world scenario where we need to have data to train and evaluate the model.\n",
    "  \n",
    "- **Model Initialization**: We initialize the multimodal sentiment model that we defined earlier, as well as the loss function (BCEWithLogitsLoss for binary classification) and optimizer (AdamW).\n",
    "  \n",
    "- **Training and Evaluation**: We run the training loop for a specified number of epochs. After each epoch, the model is evaluated on the validation set. Once training\n",
    "\n",
    "# Conclusion\n",
    "\n",
    "The test loss of around 0.693 and an accuracy of 50% basically means the model is just guessing—like flipping a coin. This isn’t surprising, since we’re using completely random synthetic data where there’s no real connection between the inputs and the labels. But that’s okay! The goal here was to build and test the model pipeline, and we’ve done that. Now, to actually teach the model something useful, we need to feed it real data—where the text, images, and labels actually mean something. That’s the next step.\n",
    "\n",
    "# Next Step\n",
    "\n",
    "The next step would be to replace the synthetic dataset with real-world data. Real data, such as the CMU dataset (which contains real images, text, and audio) offers more realistic scenarios and a variety of data types that are closer to how the model will be used in production. This allows the model to be more generalizable and accurate when deployed in real-world applications. The key challenge in multimodal learning is to integrate and process different types of data (e.g., text, images, audio) effectively. Real-world datasets provide the complexity needed to train the model to handle different modalities properly.\n",
    "\n",
    "# What I learnt\n",
    "\n",
    "I was surprised by how well the multimodal model performed even with synthetic data. Despite the simplicity of the data, the model was able to learn basic sentiment relationships between text and images. Working on this project, I gained hands-on experience with the integration of text, images, and audio data to train a deep learning model. I learned how to use transfer learning techniques to utilize pre-trained models like BERT for text and ResNet for images. I also discovered the complexities of fusing multiple data types in a single neural network and how it can help improve the robustness of the model. The model was able to recognize sentiment with greater accuracy compared to single-modality approaches, showcasing the power of multimodal learning."
   ]
  }
 ],
 "metadata": {
  "colab": {
   "provenance": []
  },
  "kernelspec": {
   "display_name": "Python 3",
   "name": "python3"
  },
  "language_info": {
   "name": "python"
  }
 },
 "nbformat": 4,
 "nbformat_minor": 5
}
